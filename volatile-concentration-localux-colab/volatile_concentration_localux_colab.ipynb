{
  "cells": [
    {
      "cell_type": "markdown",
      "metadata": {
        "colab_type": "text",
        "id": "view-in-github"
      },
      "source": [
        "<a href=\"https://colab.research.google.com/github/etherealxx/volatile-concentration-localux-colab/blob/main/volatile_concentration_localux_colab.ipynb\" target=\"_parent\"><img src=\"https://colab.research.google.com/assets/colab-badge.svg\" alt=\"Open In Colab\"/></a>"
      ]
    },
    {
      "cell_type": "markdown",
      "metadata": {
        "id": "e78dCt3JZ6UX"
      },
      "source": [
        "#***`VCL-colab`***\n",
        "## All camenduru colab in one spot, synced in realtime"
      ]
    },
    {
      "cell_type": "markdown",
      "metadata": {
        "id": "mRkHg3INcszO"
      },
      "source": [
        "##  \n",
        "To use:\n",
        "- Click the play button\n",
        "- Wait for less than a minute, until a UI with **big orange button** shows up\n",
        "- Choose the model you want, then click the orange button\n",
        "- Just wait for about 8 minute until the webui links shows up on the bottom\n",
        "\n",
        "About the options:\n",
        "- `repo_branch`: Read [here](https://github.com/camenduru/stable-diffusion-webui-colab) (just use `stable` as default)\n",
        "- `choose_models`: Untick this if you're relaunching the UI, or if you don't want to choose model (The webui will always download sd 1.4 model instead)\n",
        "- `controlnet_model`: Tick this if you want to download controlnet models (for controlnet usage). Untick this if you're relaunching the UI. Note that `lite` branch won't download any controlnet model regardless if this checkbox is being ticked or not."
      ]
    },
    {
      "cell_type": "markdown",
      "metadata": {
        "id": "4bsCMAOQcSIn"
      },
      "source": [
        "#  \n",
        "(open the hidden cell to show help☝️)"
      ]
    },
    {
      "cell_type": "code",
      "execution_count": null,
      "metadata": {
        "cellView": "form",
        "id": "HRLSD-HXLRNk"
      },
      "outputs": [],
      "source": [
        "#@title 👇 Run this\n",
        "repo_branch = 'stable' #@param [\"lite\", \"stable\", \"nightly\"]\n",
        "choose_models = True #@param {type:\"boolean\"}\n",
        "controlnet_models = False #@param {type:\"boolean\"}\n",
        "%cd /content/gdrive/MyDrive\n",
        "%env TF_CPP_MIN_LOG_LEVEL=1\n",
        "!git clone https://github.com/etherealxx/volatile-concentration-localux-colab /content/gdrive/MyDrive/dp/colabtools\n",
        "!pip install -q gradio\n",
        "\n",
        "colaboptions = {\n",
        "  \"branch\": repo_branch,\n",
        "  \"filename\": \"stable_diffusion_1_5_webui_colab.ipynb\",\n",
        "  \"part\": \"part2\",\n",
        "  \"controlnet\": controlnet_models,\n",
        "  \"download_model\": choose_models\n",
        "} #default\n",
        "\n",
        "import os, pickle\n",
        "import gradio as gr\n",
        "from IPython.display import clear_output\n",
        "\n",
        "!python /content/gdrive/MyDrive/dp/colabtools/cloneall2.py\n",
        "!python /content/gdrive/MyDrive/dp/colabtools/choosemodel3.py {repo_branch}\n",
        "\n",
        "if os.path.exists('/content/gdrive/MyDrive/dp/sortedcolabname.pkl'):\n",
        "  with open('/content/gdrive/MyDrive/dp/sortedcolabname.pkl', 'rb') as f:\n",
        "      sortedcolabname = pickle.load(f)\n",
        "\n",
        "clear_output(wait=True)\n",
        "\n",
        "everycolab = f'/content/gdrive/MyDrive/dp/camendurus/{repo_branch}'\n",
        "modelischosen = False\n",
        "modelchosenmessage = ''\n",
        "chosencolabname = ''\n",
        "\n",
        "def modelchosen(chosenmodel):\n",
        "  global modelischosen\n",
        "  global modelchosenmessage\n",
        "  global chosencolabname\n",
        "  global colaboptions\n",
        "  global choose_models\n",
        "  modelischosen = True\n",
        "  if chosenmodel:\n",
        "    modelchosenmessage = \"\u001b[1;32mModel \" + chosenmodel + \" was chosen. It'll be downloaded soon. Continue scroll down and wait for the webui to be loaded.\"\n",
        "    textbox_text = f\"Model '{chosenmodel} was chosen. It'll be downloaded soon. Continue scroll down and wait for the webui to be loaded.\"\n",
        "    chosencolabname = chosenmodel\n",
        "  else:\n",
        "    modelchosenmessage = \"\u001b[1;32mNo model was chosen. Continue scroll down and wait for the webui to be loaded.\"\n",
        "    textbox_text = f\"No model was chosen. Continue scroll down and wait for the webui to be loaded.\"\n",
        "    choose_models = False\n",
        "    colaboptions[\"download_model\"] = False\n",
        "  return [gr.Button.update(visible=False), gr.Textbox.update(value=textbox_text, visible=True)]\n",
        "\n",
        "with gr.Blocks() as vclcolab:\n",
        "    with gr.Column():\n",
        "      choose = gr.Dropdown(sortedcolabname, label=\"Choose Your Model\")\n",
        "      confirm = gr.Button(\"Use This Model\", variant=\"primary\", visible=True)\n",
        "      donetext = gr.Textbox(\"\", label=\"\", visible=False)\n",
        "      confirm.click(modelchosen, inputs=[choose], outputs=[confirm, donetext])\n",
        "\n",
        "if choose_models:\n",
        "  vclcolab.launch(server_port=7859)\n",
        "\n",
        "  while True:\n",
        "    if modelischosen:\n",
        "      clear_output(wait=True)\n",
        "      print(modelchosenmessage)\n",
        "      print('\u001b[0m')\n",
        "      vclcolab.close()\n",
        "      break\n",
        "\n",
        "aria2c_lines = []\n",
        "colabfilename = ''\n",
        "chosencolabfilepath = os.path.join(everycolab, colaboptions[\"filename\"])\n",
        "                                   \n",
        "if chosencolabname:\n",
        "   colabfilename = chosencolabname + '_webui_colab.ipynb'\n",
        "   colaboptions[\"filename\"] = colabfilename\n",
        "   chosencolabfilepath = os.path.join(everycolab, colabfilename)\n",
        "\n",
        "if os.path.exists(chosencolabfilepath):\n",
        "  print(\"\u001b[1;32mGathering aria2c code from \" + chosencolabfilepath + \"...\")\n",
        "  print('\u001b[0m')\n",
        "  with open(chosencolabfilepath, 'r', encoding='utf-8') as f:\n",
        "      for line in f:\n",
        "          stripped_line = line.strip()\n",
        "          if stripped_line.startswith('\"!aria2c'):\n",
        "              aria2c_lines.append(stripped_line)\n",
        "\n",
        "if aria2c_lines:\n",
        "  with open('/content/gdrive/MyDrive/dp/arialist.pkl', 'wb') as f:\n",
        "      pickle.dump(aria2c_lines, f)\n",
        "\n",
        "with open('/content/gdrive/MyDrive/dp/colaboptions.pkl', 'wb') as f:\n",
        "    pickle.dump(colaboptions, f)\n",
        "\n",
        "# !python /content/gdrive/MyDrive/dp/colabtools/camendurucolab.py {colabfilename} {repo_branch} part1\n",
        "!apt -y update -qq\n",
        "!wget http://launchpadlibrarian.net/367274644/libgoogle-perftools-dev_2.5-2.2ubuntu3_amd64.deb\n",
        "!wget https://launchpad.net/ubuntu/+source/google-perftools/2.5-2.2ubuntu3/+build/14795286/+files/google-perftools_2.5-2.2ubuntu3_all.deb\n",
        "!wget https://launchpad.net/ubuntu/+source/google-perftools/2.5-2.2ubuntu3/+build/14795286/+files/libtcmalloc-minimal4_2.5-2.2ubuntu3_amd64.deb\n",
        "!wget https://launchpad.net/ubuntu/+source/google-perftools/2.5-2.2ubuntu3/+build/14795286/+files/libgoogle-perftools4_2.5-2.2ubuntu3_amd64.deb\n",
        "!apt install -qq libunwind8-dev\n",
        "!dpkg -i *.deb\n",
        "%env LD_PRELOAD=libtcmalloc.so\n",
        "!rm *.deb\n",
        "!python /content/gdrive/MyDrive/dp/colabtools/camendurucolab.py #{colabfilename} {repo_branch} part2\n",
        "!python /content/gdrive/MyDrive/dp/colabtools/runaria2.py\n",
        "%cd /content/gdrive/MyDrive/dp/volatile-concentration-localux\n",
        "# !python /content/gdrive/MyDrive/dp/colabtools/camendurucolab.py {colabfilename} {repo_branch} part3\n",
        "!sed -i -e '''/    prepare_environment()/a\\    os.system\\(f\\\"\"\"sed -i -e ''\\\"s/dict()))/dict())).cuda()/g\\\"'' /content/gdrive/MyDrive/dp/volatile-concentration-localux/repositories/stable-diffusion-stability-ai/ldm/util.py\"\"\")''' /content/gdrive/MyDrive/dp/volatile-concentration-localux/launch.py\n",
        "!sed -i -e 's/\\\"sd_model_checkpoint\\\"\\,/\\\"sd_model_checkpoint\\,sd_vae\\,CLIP_stop_at_last_layers\\\"\\,/g' /content/gdrive/MyDrive/dp/volatile-concentration-localux/modules/shared.py\n",
        "print(\"\u001b[1;32mlaunching the webui...\")\n",
        "print('\u001b[0m')\n",
        "!python launch.py --listen --xformers --enable-insecure-extension-access --theme dark --gradio-queue --multiple"
      ]
    },
    {
      "cell_type": "markdown",
      "metadata": {
        "id": "ZGlOpxFdEIB5"
      },
      "source": [
        "(Doesn't work with Bromite browser on mobile. Use Chrome instead.)"
      ]
    },
    {
      "cell_type": "markdown",
      "metadata": {
        "id": "dYiw0gLVRpTz"
      },
      "source": [
        "#  "
      ]
    },
    {
      "cell_type": "markdown",
      "metadata": {
        "id": "0BEVRlWUcbj3"
      },
      "source": [
        " ### (debug area)"
      ]
    },
    {
      "cell_type": "code",
      "execution_count": null,
      "metadata": {
        "id": "nSGdJN0OAqDL"
      },
      "outputs": [],
      "source": [
        "%cd /content\n",
        "!git clone https://github.com/etherealxx/volatile-concentration-localux-colab /content/gdrive/MyDrive/dp/colabtools"
      ]
    },
    {
      "cell_type": "code",
      "execution_count": null,
      "metadata": {
        "id": "g4UAZfaZ4wgo"
      },
      "outputs": [],
      "source": [
        "!rm -rf /content/gdrive/MyDrive/dp/volatile-concentration-localux\n",
        "!rm -rf /content/gdrive/MyDrive/dp/camendurus\n",
        "!rm /content/gdrive/MyDrive/dp/frpc_linux_amd64"
      ]
    },
    {
      "cell_type": "code",
      "execution_count": null,
      "metadata": {
        "id": "--HDCkoxCHnT"
      },
      "outputs": [],
      "source": [
        "import os, pickle\n",
        "if os.path.exists('/content/gdrive/MyDrive/dp/arialist.pkl'):\n",
        "  with open('/content/gdrive/MyDrive/dp/arialist.pkl', 'rb') as f:\n",
        "      arialines2 = pickle.load(f)\n",
        "\n",
        "for line in arialines2:\n",
        "  print(line)"
      ]
    },
    {
      "cell_type": "code",
      "execution_count": null,
      "metadata": {
        "id": "pE0A4A_jGXkR"
      },
      "outputs": [],
      "source": [
        "repo_branch = 'nightly' #@param [\"lite\", \"stable\", \"nightly\"]\n",
        "\n",
        "colaboptions = {\n",
        "  \"branch\": repo_branch,\n",
        "  \"filename\": \"stable_diffusion_1_5_webui_colab.ipynb\",\n",
        "  \"part\": \"part2\"\n",
        "} #default\n",
        "\n",
        "\n",
        "print(colaboptions['branch'])"
      ]
    },
    {
      "cell_type": "code",
      "execution_count": null,
      "metadata": {
        "id": "ouZRtBpEMq3V"
      },
      "outputs": [],
      "source": [
        "with open('/content/gdrive/MyDrive/dp/camendurus/nightly/a_certain_model_webui_colab.ipynb', 'r', encoding='utf-8') as f:\n",
        "    for line in f:\n",
        "        stripped_line = line.strip()\n",
        "        if stripped_line.startswith('\"!aria2c'):\n",
        "            # aria2c_lines.append(stripped_line)\n",
        "            print(\"\u001b[1;32m\" + stripped_line)\n",
        "            print('\u001b[0m')\n",
        "        else:\n",
        "          print(stripped_line)"
      ]
    },
    {
      "cell_type": "code",
      "execution_count": null,
      "metadata": {
        "id": "jKUgiWbaN-TW"
      },
      "outputs": [],
      "source": [
        "checktest = None\n",
        "with open('/content/gdrive/MyDrive/dp/arialist.pkl', 'rb') as f:\n",
        "  checktest = pickle.load(f)\n",
        "print(checktest)"
      ]
    }
  ],
  "metadata": {
    "accelerator": "GPU",
    "colab": {
      "collapsed_sections": [
        "e78dCt3JZ6UX",
        "0BEVRlWUcbj3"
      ],
      "include_colab_link": true,
      "private_outputs": true,
      "provenance": []
    },
    "gpuClass": "standard",
    "kernelspec": {
      "display_name": "Python 3",
      "language": "python",
      "name": "python3"
    },
    "language_info": {
      "name": "python",
      "version": "3.9.6"
    },
    "vscode": {
      "interpreter": {
        "hash": "31f2aee4e71d21fbe5cf8b01ff0e069b9275f58929596ceb00d14d90e3e16cd6"
      }
    }
  },
  "nbformat": 4,
  "nbformat_minor": 0
}
